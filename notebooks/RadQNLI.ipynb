{
  "nbformat": 4,
  "nbformat_minor": 0,
  "metadata": {
    "colab": {
      "provenance": [],
      "collapsed_sections": [
        "msRLqNyWSBpC",
        "8lXvEv2_e9lb",
        "tD21UUwjevnR",
        "2WPDNDwD5kQA"
      ]
    },
    "kernelspec": {
      "name": "python3",
      "display_name": "Python 3"
    },
    "language_info": {
      "name": "python"
    },
    "gpuClass": "standard"
  },
  "cells": [
    {
      "cell_type": "markdown",
      "source": [
        "# Call API (basic code blick to run RadQNLI API)"
      ],
      "metadata": {
        "id": "msRLqNyWSBpC"
      }
    },
    {
      "cell_type": "code",
      "execution_count": null,
      "metadata": {
        "colab": {
          "base_uri": "https://localhost:8080/"
        },
        "id": "rC8l4SdhfZbl",
        "outputId": "568a575f-82dc-4040-ea38-1c48105f6960"
      },
      "outputs": [
        {
          "output_type": "stream",
          "name": "stdout",
          "text": [
            "\u001b[?25l     \u001b[90m━━━━━━━━━━━━━━━━━━━━━━━━━━━━━━━━━━━━━━━━\u001b[0m \u001b[32m0.0/73.6 kB\u001b[0m \u001b[31m?\u001b[0m eta \u001b[36m-:--:--\u001b[0m\r\u001b[2K     \u001b[90m━━━━━━━━━━━━━━━━━━━━━━━━━━━━━━━━━━━━━━━━\u001b[0m \u001b[32m73.6/73.6 kB\u001b[0m \u001b[31m2.5 MB/s\u001b[0m eta \u001b[36m0:00:00\u001b[0m\n",
            "\u001b[?25h"
          ]
        }
      ],
      "source": [
        "!pip install -q openai"
      ]
    },
    {
      "cell_type": "code",
      "execution_count": null,
      "metadata": {
        "id": "QL3YsRfqIsST"
      },
      "outputs": [],
      "source": [
        "import openai\n",
        "from openai import OpenAI\n",
        "import time\n",
        "\n",
        "def RadQNLI(text, n=3):\n",
        "  max_tries = 3\n",
        "  for try_number in range(max_tries):\n",
        "    try:\n",
        "      completion = client.chat.completions.create(\n",
        "        model=\"gpt-3.5-turbo\", # gpt-3.5-turbo gpt-4-turbo\n",
        "        messages=[\n",
        "              {\"role\": \"system\", \"content\": \"You are a helpful assistant that process text and correct grammar.\"},\n",
        "              # {\"role\": \"user\", \"content\": \"Please correct the grammar of the text below and provide {} rephrased versions of it: '{}' Response format as 'Corrected: ... Rephrased 1: ... Rephrased 2: ... Rephrased 3: ... ...'\".format(n, text)}\n",
        "              {\"role\": \"user\", \"content\": \"Please correct the grammar of the text below: {}\".format(text)}\n",
        "          ]\n",
        "      )\n",
        "      return completion.choices[0].message.content\n",
        "\n",
        "    except openai.APIError as e:\n",
        "      if try_number == max_tries - 1:\n",
        "        print('APIError: {}'.format(e))\n",
        "        return '\\n'\n",
        "      else:\n",
        "        time.sleep(0.1)"
      ]
    },
    {
      "cell_type": "code",
      "execution_count": null,
      "metadata": {
        "colab": {
          "base_uri": "https://localhost:8080/"
        },
        "id": "qVIMsED3P83F",
        "outputId": "f3fe7819-a5af-42d1-b98d-6bd109288326"
      },
      "outputs": [
        {
          "output_type": "stream",
          "name": "stdout",
          "text": [
            "Hello, I hahah.\n"
          ]
        }
      ],
      "source": [
        "openai.api_key = 'sk- your key'\n",
        "# text = \"It was abnormally upregulated in prostate cancer tissues compared with controls.46 , 47 Lentivirus - mediated overexpression of MCM3AP - AS1 promoted the proliferation , invasion , and migration , while suppressing the apoptosis of PCa cells . \"\n",
        "ans = RadQNLI('hello, i hahah', 3)\n",
        "print(ans)"
      ]
    },
    {
      "cell_type": "markdown",
      "source": [
        "# RadQNLI (classification tasks)"
      ],
      "metadata": {
        "id": "1RHmjxeFTn1O"
      }
    },
    {
      "cell_type": "markdown",
      "source": [
        "## Install"
      ],
      "metadata": {
        "id": "qIuFuBZEex9u"
      }
    },
    {
      "cell_type": "code",
      "source": [
        "!pip install -q openai\n",
        "!pip install -q evaluate"
      ],
      "metadata": {
        "colab": {
          "base_uri": "https://localhost:8080/"
        },
        "id": "zPABqr6XTsYw",
        "outputId": "0cbf6473-4fe4-4f63-cac7-d6110130b385"
      },
      "execution_count": null,
      "outputs": [
        {
          "output_type": "stream",
          "name": "stdout",
          "text": [
            "\u001b[2K     \u001b[90m━━━━━━━━━━━━━━━━━━━━━━━━━━━━━━━━━━━━━━━━\u001b[0m \u001b[32m311.2/311.2 kB\u001b[0m \u001b[31m2.7 MB/s\u001b[0m eta \u001b[36m0:00:00\u001b[0m\n",
            "\u001b[2K     \u001b[90m━━━━━━━━━━━━━━━━━━━━━━━━━━━━━━━━━━━━━━━━\u001b[0m \u001b[32m75.6/75.6 kB\u001b[0m \u001b[31m8.8 MB/s\u001b[0m eta \u001b[36m0:00:00\u001b[0m\n",
            "\u001b[2K     \u001b[90m━━━━━━━━━━━━━━━━━━━━━━━━━━━━━━━━━━━━━━━━\u001b[0m \u001b[32m77.9/77.9 kB\u001b[0m \u001b[31m8.1 MB/s\u001b[0m eta \u001b[36m0:00:00\u001b[0m\n",
            "\u001b[2K     \u001b[90m━━━━━━━━━━━━━━━━━━━━━━━━━━━━━━━━━━━━━━━━\u001b[0m \u001b[32m58.3/58.3 kB\u001b[0m \u001b[31m6.1 MB/s\u001b[0m eta \u001b[36m0:00:00\u001b[0m\n",
            "\u001b[2K     \u001b[90m━━━━━━━━━━━━━━━━━━━━━━━━━━━━━━━━━━━━━━━━\u001b[0m \u001b[32m84.1/84.1 kB\u001b[0m \u001b[31m1.3 MB/s\u001b[0m eta \u001b[36m0:00:00\u001b[0m\n",
            "\u001b[2K     \u001b[90m━━━━━━━━━━━━━━━━━━━━━━━━━━━━━━━━━━━━━━━━\u001b[0m \u001b[32m542.0/542.0 kB\u001b[0m \u001b[31m3.2 MB/s\u001b[0m eta \u001b[36m0:00:00\u001b[0m\n",
            "\u001b[2K     \u001b[90m━━━━━━━━━━━━━━━━━━━━━━━━━━━━━━━━━━━━━━━━\u001b[0m \u001b[32m116.3/116.3 kB\u001b[0m \u001b[31m2.8 MB/s\u001b[0m eta \u001b[36m0:00:00\u001b[0m\n",
            "\u001b[2K     \u001b[90m━━━━━━━━━━━━━━━━━━━━━━━━━━━━━━━━━━━━━━━━\u001b[0m \u001b[32m194.1/194.1 kB\u001b[0m \u001b[31m3.2 MB/s\u001b[0m eta \u001b[36m0:00:00\u001b[0m\n",
            "\u001b[2K     \u001b[90m━━━━━━━━━━━━━━━━━━━━━━━━━━━━━━━━━━━━━━━━\u001b[0m \u001b[32m134.8/134.8 kB\u001b[0m \u001b[31m2.9 MB/s\u001b[0m eta \u001b[36m0:00:00\u001b[0m\n",
            "\u001b[2K     \u001b[90m━━━━━━━━━━━━━━━━━━━━━━━━━━━━━━━━━━━━━━━━\u001b[0m \u001b[32m388.9/388.9 kB\u001b[0m \u001b[31m2.8 MB/s\u001b[0m eta \u001b[36m0:00:00\u001b[0m\n",
            "\u001b[?25h"
          ]
        }
      ]
    },
    {
      "cell_type": "code",
      "source": [
        "import pandas as pd\n",
        "import os\n",
        "import openai\n",
        "import concurrent.futures\n",
        "from tqdm import tqdm\n",
        "import time\n",
        "import evaluate"
      ],
      "metadata": {
        "id": "dIf0Dn5UTv5T"
      },
      "execution_count": null,
      "outputs": []
    },
    {
      "cell_type": "markdown",
      "source": [
        "## Prompt"
      ],
      "metadata": {
        "id": "8lXvEv2_e9lb"
      }
    },
    {
      "cell_type": "code",
      "source": [
        "qa = pd.read_csv('/content/drive/MyDrive/CAID/Data/bio_text/RadQA/radqa_test_balanced.csv')\n",
        "qa.tail(10)"
      ],
      "metadata": {
        "id": "TP6AdutAT0Iu"
      },
      "execution_count": null,
      "outputs": []
    },
    {
      "cell_type": "code",
      "source": [
        "messages=[\n",
        "              {\"role\": \"system\", \"content\": \"You are a radiologist. Your task is to determine whether a given context sentence from radiology reports contains the answer to a provided question. Please respond only with 'entailment' or 'not entailment' without any additional explanations.\"},\n",
        "              {\"role\": \"user\", \"content\": \"Determine whether the given context sentence from radiology reports contains the answer to the provided question.\\n\\nContext sentence: There is no pleural effusion or pneumothorax.\\nQuestion: Are there signs of pneumothorax?\"},\n",
        "              {\"role\": \"assistant\", \"content\": \"entailment\"},\n",
        "              {\"role\": \"user\", \"content\": \"Determine whether the given context sentence from radiology reports contains the answer to the provided question.\\n\\nContext sentence: In the region of the subsegmental branch in the right lower lobe there is a suggestion of filling defect that is of uncertain significance.\\nQuestion: Is there any evidence of bleeding in the chest cavity?\"},\n",
        "              {\"role\": \"assistant\", \"content\": \"not entailment\"},\n",
        "              {\"role\": \"user\", \"content\": \"Determine whether the given context sentence from radiology reports contains the answer to the provided question.\\n\\nContext sentence: No evidence of pneumothorax or other complications.\\nQuestion: Do we see any trauma to the pluera due to Central venous line?\"},\n",
        "              {\"role\": \"assistant\", \"content\": \"entailment\"},\n",
        "              {\"role\": \"user\", \"content\": \"Determine whether the given context sentence from radiology reports contains the answer to the provided question.\\n\\nContext sentence: {}\\nQuestion: {}\".format(sentence, question)}\n",
        "          ]"
      ],
      "metadata": {
        "id": "J_nI84DcXPi-"
      },
      "execution_count": null,
      "outputs": []
    },
    {
      "cell_type": "code",
      "source": [
        "messages=[\n",
        "              {\"role\": \"system\", \"content\": \"You are a radiologist. Your task is to determine whether a given context sentence from a radiology report contains the answer to a provided question. Please explain your reasoning first, then answer with either 'Contain' or 'Not contain' on a new line.\"},\n",
        "              {\"role\": \"user\", \"content\": \"Determine whether the given context sentence from radiology reports contains the answer to the provided question.\\n\\nContext sentence: There is no pleural effusion or pneumothorax.\\nQuestion: Are there signs of pneumothorax?\"},\n",
        "              {\"role\": \"assistant\", \"content\": \"entailment\"},\n",
        "              {\"role\": \"user\", \"content\": \"Determine whether the given context sentence from radiology reports contains the answer to the provided question.\\n\\nContext sentence: In the region of the subsegmental branch in the right lower lobe there is a suggestion of filling defect that is of uncertain significance.\\nQuestion: Is there any evidence of bleeding in the chest cavity?\"},\n",
        "              {\"role\": \"assistant\", \"content\": \"not entailment\"},\n",
        "              {\"role\": \"user\", \"content\": \"Determine whether the given context sentence from radiology reports contains the answer to the provided question.\\n\\nContext sentence: No evidence of pneumothorax or other complications.\\nQuestion: Do we see any trauma to the pluera due to Central venous line?\"},\n",
        "              {\"role\": \"assistant\", \"content\": \"entailment\"},\n",
        "              {\"role\": \"user\", \"content\": \"Determine whether the given context sentence from radiology reports contains the answer to the provided question.\\n\\nContext sentence: {}\\nQuestion: {}\".format(sentence, question)}\n",
        "          ]"
      ],
      "metadata": {
        "id": "J_nI84DcXPi-"
      },
      "execution_count": null,
      "outputs": []
    },
    {
      "cell_type": "code",
      "source": [
        "def RadQNLI(sentence, question):\n",
        "  max_tries = 3\n",
        "  for try_number in range(max_tries):\n",
        "    try:\n",
        "      completion = client.chat.completions.create(\n",
        "        model=\"gpt-3.5-turbo\",\n",
        "        messages=[\n",
        "              {\"role\": \"system\", \"content\": \"You are a radiologist. Your task is to determine whether a given context sentence from radiology reports contains the answer to a provided question. Please respond only with 'entailment' or 'not entailment' without any additional explanations.\"},\n",
        "              {\"role\": \"user\", \"content\": \"Determine whether the given context sentence from radiology reports contains the answer to the provided question.\\n\\nContext sentence: There is no pleural effusion or pneumothorax.\\nQuestion: Are there signs of pneumothorax?\"},\n",
        "              {\"role\": \"assistant\", \"content\": \"entailment\"},\n",
        "              {\"role\": \"user\", \"content\": \"Determine whether the given context sentence from radiology reports contains the answer to the provided question.\\n\\nContext sentence: In the region of the subsegmental branch in the right lower lobe there is a suggestion of filling defect that is of uncertain significance.\\nQuestion: Is there any evidence of bleeding in the chest cavity?\"},\n",
        "              {\"role\": \"assistant\", \"content\": \"not entailment\"},\n",
        "              {\"role\": \"user\", \"content\": \"Determine whether the given context sentence from radiology reports contains the answer to the provided question.\\n\\nContext sentence: No evidence of pneumothorax or other complications.\\nQuestion: Do we see any trauma to the pluera due to Central venous line?\"},\n",
        "              {\"role\": \"assistant\", \"content\": \"entailment\"},\n",
        "              {\"role\": \"user\", \"content\": \"Determine whether the given context sentence from radiology reports contains the answer to the provided question.\\n\\nContext sentence: {}\\nQuestion: {}\".format(sentence, question)}\n",
        "          ]\n",
        "      )\n",
        "      return completion.choices[0].message.content\n",
        "\n",
        "    except openai.APIError as e:\n",
        "      if try_number == max_tries - 1:\n",
        "        print('APIError: {}'.format(e))\n",
        "        return '\\n'\n",
        "      else:\n",
        "        time.sleep(0.1)"
      ],
      "metadata": {
        "id": "kHFkd4hwXPxu"
      },
      "execution_count": null,
      "outputs": []
    },
    {
      "cell_type": "code",
      "source": [
        "for i in range(5):\n",
        "  openai.api_key = 'sk-'\n",
        "  sentence = \"No suspicious lytic or sclerotic osseous lesions are identified.\"\n",
        "  question = \"Is there any abnormal fluid filled mass in the abdomen?\"\n",
        "  ans = RadQNLI(sentence, question)\n",
        "  print(ans)\n",
        "  print('\\n')"
      ],
      "metadata": {
        "colab": {
          "base_uri": "https://localhost:8080/"
        },
        "id": "XK2J5pbRXUNx",
        "outputId": "58b1c81e-4952-4ac7-d473-0b1878e869ca"
      },
      "execution_count": null,
      "outputs": [
        {
          "output_type": "stream",
          "name": "stdout",
          "text": [
            "not entailment\n",
            "\n",
            "\n",
            "not entailment\n",
            "\n",
            "\n",
            "not entailment\n",
            "\n",
            "\n",
            "not entailment\n",
            "\n",
            "\n",
            "not entailment\n",
            "\n",
            "\n"
          ]
        }
      ]
    },
    {
      "cell_type": "markdown",
      "source": [
        "## Run"
      ],
      "metadata": {
        "id": "tD21UUwjevnR"
      }
    },
    {
      "cell_type": "code",
      "source": [
        "def process_row(args):\n",
        "    index, row = args\n",
        "    corrected_text = RadQNLI(row['sentence'], row['question']).replace('not ', 'not_').replace('.', '')\n",
        "    return index, corrected_text\n",
        "\n",
        "openai.api_key = 'sk- your key' # gpt 3.5\n",
        "\n",
        "input_file = \"/content/drive/MyDrive/CAID/Data/bio_text/RadQA/radqa_test_balanced.csv\"\n",
        "df = pd.read_csv(input_file)\n",
        "\n",
        "# parallel (set max worker to 1 or 2 or 3 if use GPT-4, as GPT-4 has lower rate limit: max 200 call or 4000 tokens per min)\n",
        "with concurrent.futures.ThreadPoolExecutor() as executor:\n",
        "    results = dict(tqdm(executor.map(process_row, df.iterrows()), total=len(df)))\n",
        "\n",
        "# same order as the input\n",
        "df['predict'] = df.index.map(results.get)\n",
        "\n",
        "output_file = \"/content/drive/MyDrive/CAID/Data/bio_text/RadQA/predict_v3.csv\"\n",
        "df.to_csv(output_file, index=False)"
      ],
      "metadata": {
        "colab": {
          "base_uri": "https://localhost:8080/"
        },
        "id": "cAjpY9breuci",
        "outputId": "bff847a3-3c44-436b-b28e-c0e29f786003"
      },
      "execution_count": null,
      "outputs": [
        {
          "output_type": "stream",
          "name": "stderr",
          "text": [
            "100%|██████████| 920/920 [00:42<00:00, 21.60it/s]\n"
          ]
        }
      ]
    },
    {
      "cell_type": "markdown",
      "source": [
        "## Eval"
      ],
      "metadata": {
        "id": "ovLMN_uvhd8n"
      }
    },
    {
      "cell_type": "code",
      "source": [
        "output_file = \"/content/drive/MyDrive/CAID/Data/bio_text/RadQA/previous/predict_gpt4.csv\"\n",
        "\n",
        "predict = pd.read_csv(output_file)\n",
        "# predict['predict'] = predict['predict'].str.replace('Entailment', 'entailment', regex=True)\n",
        "predict[['label', 'predict']].head(10)"
      ],
      "metadata": {
        "colab": {
          "base_uri": "https://localhost:8080/",
          "height": 363
        },
        "id": "Mc6Yx1jZhm2Q",
        "outputId": "2762b3ef-9690-4bdb-e33c-bb2e829f9479"
      },
      "execution_count": null,
      "outputs": [
        {
          "output_type": "execute_result",
          "data": {
            "text/plain": [
              "            label         predict\n",
              "0  not_entailment  not_entailment\n",
              "1  not_entailment      entailment\n",
              "2  not_entailment  not_entailment\n",
              "3      entailment      entailment\n",
              "4  not_entailment  not_entailment\n",
              "5      entailment      entailment\n",
              "6      entailment      entailment\n",
              "7  not_entailment  not_entailment\n",
              "8  not_entailment  not_entailment\n",
              "9  not_entailment  not_entailment"
            ],
            "text/html": [
              "\n",
              "  <div id=\"df-9b339359-3ffe-4c01-9fdb-4cf3b6c2c8a5\" class=\"colab-df-container\">\n",
              "    <div>\n",
              "<style scoped>\n",
              "    .dataframe tbody tr th:only-of-type {\n",
              "        vertical-align: middle;\n",
              "    }\n",
              "\n",
              "    .dataframe tbody tr th {\n",
              "        vertical-align: top;\n",
              "    }\n",
              "\n",
              "    .dataframe thead th {\n",
              "        text-align: right;\n",
              "    }\n",
              "</style>\n",
              "<table border=\"1\" class=\"dataframe\">\n",
              "  <thead>\n",
              "    <tr style=\"text-align: right;\">\n",
              "      <th></th>\n",
              "      <th>label</th>\n",
              "      <th>predict</th>\n",
              "    </tr>\n",
              "  </thead>\n",
              "  <tbody>\n",
              "    <tr>\n",
              "      <th>0</th>\n",
              "      <td>not_entailment</td>\n",
              "      <td>not_entailment</td>\n",
              "    </tr>\n",
              "    <tr>\n",
              "      <th>1</th>\n",
              "      <td>not_entailment</td>\n",
              "      <td>entailment</td>\n",
              "    </tr>\n",
              "    <tr>\n",
              "      <th>2</th>\n",
              "      <td>not_entailment</td>\n",
              "      <td>not_entailment</td>\n",
              "    </tr>\n",
              "    <tr>\n",
              "      <th>3</th>\n",
              "      <td>entailment</td>\n",
              "      <td>entailment</td>\n",
              "    </tr>\n",
              "    <tr>\n",
              "      <th>4</th>\n",
              "      <td>not_entailment</td>\n",
              "      <td>not_entailment</td>\n",
              "    </tr>\n",
              "    <tr>\n",
              "      <th>5</th>\n",
              "      <td>entailment</td>\n",
              "      <td>entailment</td>\n",
              "    </tr>\n",
              "    <tr>\n",
              "      <th>6</th>\n",
              "      <td>entailment</td>\n",
              "      <td>entailment</td>\n",
              "    </tr>\n",
              "    <tr>\n",
              "      <th>7</th>\n",
              "      <td>not_entailment</td>\n",
              "      <td>not_entailment</td>\n",
              "    </tr>\n",
              "    <tr>\n",
              "      <th>8</th>\n",
              "      <td>not_entailment</td>\n",
              "      <td>not_entailment</td>\n",
              "    </tr>\n",
              "    <tr>\n",
              "      <th>9</th>\n",
              "      <td>not_entailment</td>\n",
              "      <td>not_entailment</td>\n",
              "    </tr>\n",
              "  </tbody>\n",
              "</table>\n",
              "</div>\n",
              "    <div class=\"colab-df-buttons\">\n",
              "\n",
              "  <div class=\"colab-df-container\">\n",
              "    <button class=\"colab-df-convert\" onclick=\"convertToInteractive('df-9b339359-3ffe-4c01-9fdb-4cf3b6c2c8a5')\"\n",
              "            title=\"Convert this dataframe to an interactive table.\"\n",
              "            style=\"display:none;\">\n",
              "\n",
              "  <svg xmlns=\"http://www.w3.org/2000/svg\" height=\"24px\" viewBox=\"0 -960 960 960\">\n",
              "    <path d=\"M120-120v-720h720v720H120Zm60-500h600v-160H180v160Zm220 220h160v-160H400v160Zm0 220h160v-160H400v160ZM180-400h160v-160H180v160Zm440 0h160v-160H620v160ZM180-180h160v-160H180v160Zm440 0h160v-160H620v160Z\"/>\n",
              "  </svg>\n",
              "    </button>\n",
              "\n",
              "  <style>\n",
              "    .colab-df-container {\n",
              "      display:flex;\n",
              "      gap: 12px;\n",
              "    }\n",
              "\n",
              "    .colab-df-convert {\n",
              "      background-color: #E8F0FE;\n",
              "      border: none;\n",
              "      border-radius: 50%;\n",
              "      cursor: pointer;\n",
              "      display: none;\n",
              "      fill: #1967D2;\n",
              "      height: 32px;\n",
              "      padding: 0 0 0 0;\n",
              "      width: 32px;\n",
              "    }\n",
              "\n",
              "    .colab-df-convert:hover {\n",
              "      background-color: #E2EBFA;\n",
              "      box-shadow: 0px 1px 2px rgba(60, 64, 67, 0.3), 0px 1px 3px 1px rgba(60, 64, 67, 0.15);\n",
              "      fill: #174EA6;\n",
              "    }\n",
              "\n",
              "    .colab-df-buttons div {\n",
              "      margin-bottom: 4px;\n",
              "    }\n",
              "\n",
              "    [theme=dark] .colab-df-convert {\n",
              "      background-color: #3B4455;\n",
              "      fill: #D2E3FC;\n",
              "    }\n",
              "\n",
              "    [theme=dark] .colab-df-convert:hover {\n",
              "      background-color: #434B5C;\n",
              "      box-shadow: 0px 1px 3px 1px rgba(0, 0, 0, 0.15);\n",
              "      filter: drop-shadow(0px 1px 2px rgba(0, 0, 0, 0.3));\n",
              "      fill: #FFFFFF;\n",
              "    }\n",
              "  </style>\n",
              "\n",
              "    <script>\n",
              "      const buttonEl =\n",
              "        document.querySelector('#df-9b339359-3ffe-4c01-9fdb-4cf3b6c2c8a5 button.colab-df-convert');\n",
              "      buttonEl.style.display =\n",
              "        google.colab.kernel.accessAllowed ? 'block' : 'none';\n",
              "\n",
              "      async function convertToInteractive(key) {\n",
              "        const element = document.querySelector('#df-9b339359-3ffe-4c01-9fdb-4cf3b6c2c8a5');\n",
              "        const dataTable =\n",
              "          await google.colab.kernel.invokeFunction('convertToInteractive',\n",
              "                                                    [key], {});\n",
              "        if (!dataTable) return;\n",
              "\n",
              "        const docLinkHtml = 'Like what you see? Visit the ' +\n",
              "          '<a target=\"_blank\" href=https://colab.research.google.com/notebooks/data_table.ipynb>data table notebook</a>'\n",
              "          + ' to learn more about interactive tables.';\n",
              "        element.innerHTML = '';\n",
              "        dataTable['output_type'] = 'display_data';\n",
              "        await google.colab.output.renderOutput(dataTable, element);\n",
              "        const docLink = document.createElement('div');\n",
              "        docLink.innerHTML = docLinkHtml;\n",
              "        element.appendChild(docLink);\n",
              "      }\n",
              "    </script>\n",
              "  </div>\n",
              "\n",
              "\n",
              "<div id=\"df-42b38bab-7ef2-4495-8496-b321abf6c8cb\">\n",
              "  <button class=\"colab-df-quickchart\" onclick=\"quickchart('df-42b38bab-7ef2-4495-8496-b321abf6c8cb')\"\n",
              "            title=\"Suggest charts\"\n",
              "            style=\"display:none;\">\n",
              "\n",
              "<svg xmlns=\"http://www.w3.org/2000/svg\" height=\"24px\"viewBox=\"0 0 24 24\"\n",
              "     width=\"24px\">\n",
              "    <g>\n",
              "        <path d=\"M19 3H5c-1.1 0-2 .9-2 2v14c0 1.1.9 2 2 2h14c1.1 0 2-.9 2-2V5c0-1.1-.9-2-2-2zM9 17H7v-7h2v7zm4 0h-2V7h2v10zm4 0h-2v-4h2v4z\"/>\n",
              "    </g>\n",
              "</svg>\n",
              "  </button>\n",
              "\n",
              "<style>\n",
              "  .colab-df-quickchart {\n",
              "      --bg-color: #E8F0FE;\n",
              "      --fill-color: #1967D2;\n",
              "      --hover-bg-color: #E2EBFA;\n",
              "      --hover-fill-color: #174EA6;\n",
              "      --disabled-fill-color: #AAA;\n",
              "      --disabled-bg-color: #DDD;\n",
              "  }\n",
              "\n",
              "  [theme=dark] .colab-df-quickchart {\n",
              "      --bg-color: #3B4455;\n",
              "      --fill-color: #D2E3FC;\n",
              "      --hover-bg-color: #434B5C;\n",
              "      --hover-fill-color: #FFFFFF;\n",
              "      --disabled-bg-color: #3B4455;\n",
              "      --disabled-fill-color: #666;\n",
              "  }\n",
              "\n",
              "  .colab-df-quickchart {\n",
              "    background-color: var(--bg-color);\n",
              "    border: none;\n",
              "    border-radius: 50%;\n",
              "    cursor: pointer;\n",
              "    display: none;\n",
              "    fill: var(--fill-color);\n",
              "    height: 32px;\n",
              "    padding: 0;\n",
              "    width: 32px;\n",
              "  }\n",
              "\n",
              "  .colab-df-quickchart:hover {\n",
              "    background-color: var(--hover-bg-color);\n",
              "    box-shadow: 0 1px 2px rgba(60, 64, 67, 0.3), 0 1px 3px 1px rgba(60, 64, 67, 0.15);\n",
              "    fill: var(--button-hover-fill-color);\n",
              "  }\n",
              "\n",
              "  .colab-df-quickchart-complete:disabled,\n",
              "  .colab-df-quickchart-complete:disabled:hover {\n",
              "    background-color: var(--disabled-bg-color);\n",
              "    fill: var(--disabled-fill-color);\n",
              "    box-shadow: none;\n",
              "  }\n",
              "\n",
              "  .colab-df-spinner {\n",
              "    border: 2px solid var(--fill-color);\n",
              "    border-color: transparent;\n",
              "    border-bottom-color: var(--fill-color);\n",
              "    animation:\n",
              "      spin 1s steps(1) infinite;\n",
              "  }\n",
              "\n",
              "  @keyframes spin {\n",
              "    0% {\n",
              "      border-color: transparent;\n",
              "      border-bottom-color: var(--fill-color);\n",
              "      border-left-color: var(--fill-color);\n",
              "    }\n",
              "    20% {\n",
              "      border-color: transparent;\n",
              "      border-left-color: var(--fill-color);\n",
              "      border-top-color: var(--fill-color);\n",
              "    }\n",
              "    30% {\n",
              "      border-color: transparent;\n",
              "      border-left-color: var(--fill-color);\n",
              "      border-top-color: var(--fill-color);\n",
              "      border-right-color: var(--fill-color);\n",
              "    }\n",
              "    40% {\n",
              "      border-color: transparent;\n",
              "      border-right-color: var(--fill-color);\n",
              "      border-top-color: var(--fill-color);\n",
              "    }\n",
              "    60% {\n",
              "      border-color: transparent;\n",
              "      border-right-color: var(--fill-color);\n",
              "    }\n",
              "    80% {\n",
              "      border-color: transparent;\n",
              "      border-right-color: var(--fill-color);\n",
              "      border-bottom-color: var(--fill-color);\n",
              "    }\n",
              "    90% {\n",
              "      border-color: transparent;\n",
              "      border-bottom-color: var(--fill-color);\n",
              "    }\n",
              "  }\n",
              "</style>\n",
              "\n",
              "  <script>\n",
              "    async function quickchart(key) {\n",
              "      const quickchartButtonEl =\n",
              "        document.querySelector('#' + key + ' button');\n",
              "      quickchartButtonEl.disabled = true;  // To prevent multiple clicks.\n",
              "      quickchartButtonEl.classList.add('colab-df-spinner');\n",
              "      try {\n",
              "        const charts = await google.colab.kernel.invokeFunction(\n",
              "            'suggestCharts', [key], {});\n",
              "      } catch (error) {\n",
              "        console.error('Error during call to suggestCharts:', error);\n",
              "      }\n",
              "      quickchartButtonEl.classList.remove('colab-df-spinner');\n",
              "      quickchartButtonEl.classList.add('colab-df-quickchart-complete');\n",
              "    }\n",
              "    (() => {\n",
              "      let quickchartButtonEl =\n",
              "        document.querySelector('#df-42b38bab-7ef2-4495-8496-b321abf6c8cb button');\n",
              "      quickchartButtonEl.style.display =\n",
              "        google.colab.kernel.accessAllowed ? 'block' : 'none';\n",
              "    })();\n",
              "  </script>\n",
              "</div>\n",
              "\n",
              "    </div>\n",
              "  </div>\n"
            ],
            "application/vnd.google.colaboratory.intrinsic+json": {
              "type": "dataframe",
              "summary": "{\n  \"name\": \"predict[['label', 'predict']]\",\n  \"rows\": 10,\n  \"fields\": [\n    {\n      \"column\": \"label\",\n      \"properties\": {\n        \"dtype\": \"category\",\n        \"num_unique_values\": 2,\n        \"samples\": [\n          \"entailment\",\n          \"not_entailment\"\n        ],\n        \"semantic_type\": \"\",\n        \"description\": \"\"\n      }\n    },\n    {\n      \"column\": \"predict\",\n      \"properties\": {\n        \"dtype\": \"category\",\n        \"num_unique_values\": 2,\n        \"samples\": [\n          \"entailment\",\n          \"not_entailment\"\n        ],\n        \"semantic_type\": \"\",\n        \"description\": \"\"\n      }\n    }\n  ]\n}"
            }
          },
          "metadata": {},
          "execution_count": 61
        }
      ]
    },
    {
      "cell_type": "code",
      "source": [
        "predict['predict'].unique()"
      ],
      "metadata": {
        "colab": {
          "base_uri": "https://localhost:8080/"
        },
        "id": "ArOB9dmhNTNg",
        "outputId": "21218da4-41d1-40e6-9cf9-66060a1238d7"
      },
      "execution_count": null,
      "outputs": [
        {
          "output_type": "execute_result",
          "data": {
            "text/plain": [
              "array(['not_entailment', 'entailment'], dtype=object)"
            ]
          },
          "metadata": {},
          "execution_count": 62
        }
      ]
    },
    {
      "cell_type": "code",
      "source": [
        "predict['predict'] = predict['predict'].str.replace('Not ', 'not_')\n",
        "predict['predict'] = predict['predict'].str.replace(' ', '')\n",
        "# predict['predict'] = predict['predict'].str.replace('2', 'entailment') # alpaca\n",
        "predict['predict'].unique()"
      ],
      "metadata": {
        "colab": {
          "base_uri": "https://localhost:8080/"
        },
        "id": "POcJ1ssNL7A9",
        "outputId": "0624e31f-deac-4645-e30e-e6fd40cbc6e0"
      },
      "execution_count": null,
      "outputs": [
        {
          "output_type": "execute_result",
          "data": {
            "text/plain": [
              "array(['not_entailment', 'entailment'], dtype=object)"
            ]
          },
          "metadata": {},
          "execution_count": 56
        }
      ]
    },
    {
      "cell_type": "code",
      "source": [
        "predict['label'] = predict['label'].replace('not_entailment', 1).replace('entailment', 0)\n",
        "predict['predict'] = predict['predict'].replace('not_entailment', 1).replace('entailment', 0)\n",
        "\n",
        "ACC = evaluate.load(\"accuracy\")\n",
        "P = evaluate.load(\"precision\")\n",
        "R = evaluate.load(\"recall\")\n",
        "F1 = evaluate.load(\"f1\")\n",
        "acc = ACC.compute(predictions=predict['predict'], references=predict['label'])\n",
        "p = P.compute(predictions=predict['predict'], references=predict['label'])\n",
        "r = R.compute(predictions=predict['predict'], references=predict['label'])\n",
        "f1 = F1.compute(predictions=predict['predict'], references=predict['label'])\n",
        "print('ACC: {:0.4f}'.format(acc['accuracy']))\n",
        "print('P: {:0.4f}'.format(p['precision']))\n",
        "print('R: {:0.4f}'.format(r['recall']))\n",
        "print('F1: {:0.4f}'.format(f1['f1']))"
      ],
      "metadata": {
        "colab": {
          "base_uri": "https://localhost:8080/"
        },
        "id": "yD7_9q58i2mI",
        "outputId": "10e70e12-2c21-48fd-9fdf-5a9b8ef308a3"
      },
      "execution_count": null,
      "outputs": [
        {
          "output_type": "stream",
          "name": "stdout",
          "text": [
            "ACC: 0.7891\n",
            "P: 0.9080\n",
            "R: 0.6435\n",
            "F1: 0.7532\n"
          ]
        }
      ]
    },
    {
      "cell_type": "markdown",
      "source": [
        "## plt"
      ],
      "metadata": {
        "id": "2WPDNDwD5kQA"
      }
    },
    {
      "cell_type": "code",
      "source": [
        "import pandas as pd\n",
        "import seaborn as sns\n",
        "import matplotlib.pyplot as plt\n",
        "from matplotlib import colormaps\n",
        "\n",
        "# Data\n",
        "zero_GPT3_con = [0.6489, 0.6530, 0.6499]\n",
        "zero_GPT3_concot = [0.6817, 0.6919, 0.6888]\n",
        "zero_GPT3_ent = [0.6397, 0.6387, 0.6387]\n",
        "zero_GPT3_entcot = [0.6561, 0.6684, 0.6653]\n",
        "\n",
        "zero_GPT4_con = [0.7380, 0.7390, 0.7421]\n",
        "zero_GPT4_concot = [0.7707, 0.7881, 0.7840]\n",
        "zero_GPT4_ent = [0.6766, 0.6827, 0.6847]\n",
        "zero_GPT4_entcot = [0.7748, 0.7851, 0.7697]\n",
        "\n",
        "blank_GPT_con = [0,0,0]\n",
        "blank_GPT_concot = [0,0,0]\n",
        "blank_GPT_ent = [0,0,0]\n",
        "blank_GPT_entcot = [0,0,0]\n",
        "\n",
        "\n",
        "few_GPT3_con = [0.7902, 0.7892, 0.7892]\n",
        "few_GPT3_concot = [0.7206, 0.7431, 0.7247]\n",
        "few_GPT3_ent = [0.7380, 0.7298, 0.7462]\n",
        "few_GPT3_entcot = [0.7216, 0.7267, 0.7206]\n",
        "\n",
        "few_GPT4_con = [0.8393, 0.8454, 0.8414]\n",
        "few_GPT4_concot = [0.8117, 0.8168, 0.8147]\n",
        "few_GPT4_ent = [0.8250, 0.8311, 0.8383]\n",
        "few_GPT4_entcot = [0.8086, 0.8025, 0.8147]\n",
        "\n",
        "# Create a DataFrame\n",
        "data = pd.DataFrame({\n",
        "    'zero_ChatGPT_IRSA': zero_GPT3_con,\n",
        "    'zero_ChatGPT_IRSA+COT': zero_GPT3_concot,\n",
        "    'zero_ChatGPT_vanilla': zero_GPT3_ent,\n",
        "    'zero_ChatGPT_COT': zero_GPT3_entcot,\n",
        "    'zero_GPT-4_IRSA': zero_GPT4_con,\n",
        "    'zero_GPT-4_IRSA+COT': zero_GPT4_concot,\n",
        "    'zero_GPT-4_vanilla': zero_GPT4_ent,\n",
        "    'zero_GPT-4_COT': zero_GPT4_entcot,\n",
        "    'blank_GPT_IRSA': blank_GPT_con,\n",
        "    'blank_GPT_IRSA+COT': blank_GPT_concot,\n",
        "    'blank_GPT_vanilla': blank_GPT_ent,\n",
        "    'blank_GPT_COT': blank_GPT_entcot,\n",
        "    'few_ChatGPT_IRSA': few_GPT3_con,\n",
        "    'few_ChatGPT_IRSA+COT': few_GPT3_concot,\n",
        "    'few_ChatGPT_vanilla': few_GPT3_ent,\n",
        "    'few_ChatGPT_COT': few_GPT3_entcot,\n",
        "    'few_GPT-4_IRSA': few_GPT4_con,\n",
        "    'few_GPT-4_IRSA+COT': few_GPT4_concot,\n",
        "    'few_GPT-4_vanilla': few_GPT4_ent,\n",
        "    'few_GPT-4_COT': few_GPT4_entcot\n",
        "})\n",
        "\n",
        "# Melt the DataFrame to a long format suitable for Seaborn's barplot\n",
        "data = data.melt(var_name='Subgroup', value_name='Value')\n",
        "\n",
        "# Add Group and Age_Height columns\n",
        "data['Model group'] = data['Subgroup'].apply(lambda x: 'zero_ChatGPT' if 'zero_ChatGPT' in x else ('zero_GPT-4' if 'zero_GPT-4' in x else ('blank_GPT' if 'blank_GPT' in x else ('few_ChatGPT' if 'few_ChatGPT' in x else 'few_GPT-4'))))\n",
        "data['setting'] = data['Subgroup'].apply(lambda x: x.split('_')[2])\n",
        "\n",
        "subgroup_order = ['vanilla','COT','IRSA','IRSA+COT']\n",
        "\n",
        "# Define custom colors for each bar\n",
        "cmap = colormaps.get_cmap('tab20')\n",
        "custom_colors = {\n",
        "    'vanilla': '#aadfff',\n",
        "    'COT': '#8fd49e',\n",
        "    'IRSA': '#ffc347',\n",
        "    'IRSA+COT': '#ed7857'\n",
        "}\n",
        "\n",
        "# Create the barplot with error bars as standard deviation\n",
        "plt.figure(figsize=(12, 6))\n",
        "ax = sns.barplot(x='Model group', y='Value', hue='setting', hue_order=subgroup_order,  palette=custom_colors, data=data, errorbar='sd', errcolor = 'black', errwidth = 1.5, edgecolor = 'w') # capsize\n",
        "\n",
        "ax.grid(which='major', axis='y', alpha=0.4)\n",
        "ax.set_axisbelow(True)\n",
        "ax.spines['left'].set_color('none')\n",
        "ax.spines['right'].set_color('none')\n",
        "ax.spines['top'].set_color('none')\n",
        "ax.spines['bottom'].set_color('gainsboro')\n",
        "\n",
        "ax.set_ylim([0.5, 0.85])\n",
        "\n",
        "# ax.set_ylabel('')\n",
        "# ax.set_yticklabels([])\n",
        "\n",
        "ax.set_xticklabels(['ChatGPT', 'GPT-4', '', 'ChatGPT', 'GPT-4'], c='0.3', fontsize=14)\n",
        "ax.set_xlabel('Zero-shot                                                                Few-shot ', fontsize=16) # fontweight='bold', color='black'\n",
        "ax.tick_params(length=0, axis='x')\n",
        "ax.tick_params(axis='y', colors='0.3', length=0, labelsize=14)\n",
        "\n",
        "legend = ax.legend(loc='upper left', framealpha=0.5, fontsize=14, bbox_to_anchor= (0, 1.05))\n",
        "legend.get_frame().set_linewidth(0.0)\n",
        "for text in legend.get_texts():\n",
        "    text.set_color('0.3')\n",
        "\n",
        "plt.ylabel('Accuracy', fontsize=16)\n",
        "plt.title('Accuracy on RadQNLI', fontsize=16, fontweight='bold', c='0.2')\n",
        "# plt.savefig('acc.jpg', bbox_inches='tight', pad_inches=0.1, dpi=1200)\n",
        "plt.show()"
      ],
      "metadata": {
        "colab": {
          "base_uri": "https://localhost:8080/",
          "height": 572
        },
        "id": "Cimr_c2l6OpY",
        "outputId": "9c014f3e-c834-44d5-d50b-a7ec2c12abdc"
      },
      "execution_count": null,
      "outputs": [
        {
          "output_type": "display_data",
          "data": {
            "text/plain": [
              "<Figure size 1200x600 with 1 Axes>"
            ],
            "image/png": "[encoded data removed]"
          },
          "metadata": {}
        }
      ]
    },
    {
      "cell_type": "code",
      "source": [
        "import matplotlib.pyplot as plt\n",
        "\n",
        "# Accuracy data\n",
        "accuracy1 = [0.4708, 0.5619, 0.7185, 0.7408, 0.8280]\n",
        "accuracy2 = [0.4719, 0.5589, 0.7236, 0.7574, 0.8414]\n",
        "accuracy3 = [0.4708, 0.5803, 0.7400, 0.7615, 0.8465]\n",
        "accuracy4 = [0.5824, 0.6407, 0.7421, 0.7697, 0.8557]\n",
        "accuracy5 = [0.5947, 0.6479, 0.7584, 0.7738, 0.8618]\n",
        "\n",
        "x_values = [10, 30, 100, 200, 350]\n",
        "x_labels = ['10', '100', '500', '1000', '7911']\n",
        "\n",
        "fig, ax = plt.subplots()\n",
        "\n",
        "plt.plot(x_values, accuracy1, color='tab:blue', marker='o', markersize=4, label='DistilBERT', linewidth=1)\n",
        "plt.plot(x_values, accuracy2, color='tab:orange', marker='o', markersize=4, label='BERT', linewidth=1)\n",
        "plt.plot(x_values, accuracy3, color='tab:green', marker='o', markersize=4, label='RoBERTa', linewidth=1)\n",
        "plt.plot(x_values, accuracy4, color='tab:red', marker='o', markersize=4, label='BioBERT', linewidth=1)\n",
        "plt.plot(x_values, accuracy5, color='tab:purple', marker='o', markersize=4, label='ClinicalBERT', linewidth=1)\n",
        "\n",
        "\n",
        "plt.axhline(y=0.7895, linestyle='--', color='0', linewidth=1)\n",
        "plt.axhline(y=0.8420, linestyle='--', color='0', linewidth=1)\n",
        "\n",
        "plt.axhline(y=0.6875, linestyle='--', color='0.5', linewidth=1)\n",
        "plt.axhline(y=0.7809, linestyle='--', color='0.5', linewidth=1)\n",
        "\n",
        "\n",
        "plt.text(4, 0.7895+0.003, '10-shot ChatGPT', fontsize=10, color='0')\n",
        "plt.text(4, 0.8420+0.003, '10-shot GPT-4', fontsize=10, color='0')\n",
        "\n",
        "plt.text(275, 0.6875-0.016, '0-shot ChatGPT', fontsize=10, color='0')\n",
        "plt.text(290, 0.7809-0.016, '0-shot GPT-4', fontsize=10, color='0')\n",
        "\n",
        "ax.grid(alpha=0.1)\n",
        "ax.set_axisbelow(True)\n",
        "ax.spines['left'].set_color('gainsboro')\n",
        "ax.spines['right'].set_color('gainsboro')\n",
        "ax.spines['top'].set_color('gainsboro')\n",
        "ax.spines['bottom'].set_color('gainsboro')\n",
        "\n",
        "ax.tick_params(length=0, axis='x')\n",
        "ax.tick_params(axis='y', colors='0.3', length=0)\n",
        "ax.tick_params(axis='x', colors='0.3', length=0)\n",
        "\n",
        "\n",
        "# plt.legend(loc='upper left')\n",
        "legend = plt.legend(loc='lower right', framealpha=1)\n",
        "# legend.get_frame().set_linewidth(0.0)\n",
        "for text in legend.get_texts():\n",
        "    text.set_color('0.3')\n",
        "\n",
        "\n",
        "plt.xticks(x_values, x_labels)\n",
        "\n",
        "plt.title('Comparsion between GPT and fine-tuned models', c='0.2', fontsize=12)\n",
        "plt.xlabel('# of samples in training', fontsize=12)\n",
        "plt.ylabel('Accuracy', fontsize=12)\n",
        "# plt.gcf().set_size_inches(6.4, 4.8)\n",
        "plt.savefig('GPT_BERT.jpg', bbox_inches='tight', pad_inches=0.1, dpi=1200)\n",
        "plt.show()"
      ],
      "metadata": {
        "id": "5zVrl4VCrHYx"
      },
      "execution_count": null,
      "outputs": []
    },
    {
      "cell_type": "code",
      "source": [
        "import numpy as np\n",
        "\n",
        "print(\"zero_GPT3_ent: mean={:0.4f}  std={:0.4f}\".format(np.mean(zero_GPT3_ent), np.std(zero_GPT3_ent)))\n",
        "print(\"zero_GPT3_entcot: mean={:0.4f}  std={:0.4f}\".format(np.mean(zero_GPT3_entcot), np.std(zero_GPT3_entcot)))\n",
        "print(\"zero_GPT3_con: mean={:0.4f}  std={:0.4f}\".format(np.mean(zero_GPT3_con), np.std(zero_GPT3_con)))\n",
        "print(\"zero_GPT3_concot: mean={:0.4f}  std={:0.4f}\".format(np.mean(zero_GPT3_concot), np.std(zero_GPT3_concot)))\n",
        "print('\\n')\n",
        "print(\"zero_GPT4_ent: mean={:0.4f}  std={:0.4f}\".format(np.mean(zero_GPT4_ent), np.std(zero_GPT4_ent)))\n",
        "print(\"zero_GPT4_entcot: mean={:0.4f}  std={:0.4f}\".format(np.mean(zero_GPT4_entcot), np.std(zero_GPT4_entcot)))\n",
        "print(\"zero_GPT4_con: mean={:0.4f}  std={:0.4f}\".format(np.mean(zero_GPT4_con), np.std(zero_GPT4_con)))\n",
        "print(\"zero_GPT4_concot: mean={:0.4f}  std={:0.4f}\".format(np.mean(zero_GPT4_concot), np.std(zero_GPT4_concot)))\n",
        "print('\\n')\n",
        "print(\"few_GPT3_ent: mean={:0.4f}  std={:0.4f}\".format(np.mean(few_GPT3_ent), np.std(few_GPT3_ent)))\n",
        "print(\"few_GPT3_entcot: mean={:0.4f}  std={:0.4f}\".format(np.mean(few_GPT3_entcot), np.std(few_GPT3_entcot)))\n",
        "print(\"few_GPT3_con: mean={:0.4f}  std={:0.4f}\".format(np.mean(few_GPT3_con), np.std(few_GPT3_con)))\n",
        "print(\"few_GPT3_concot: mean={:0.4f}  std={:0.4f}\".format(np.mean(few_GPT3_concot), np.std(few_GPT3_concot)))\n",
        "print('\\n')\n",
        "print(\"few_GPT4_ent: mean={:0.4f}  std={:0.4f}\".format(np.mean(few_GPT4_ent), np.std(few_GPT4_ent)))\n",
        "print(\"few_GPT4_entcot: mean={:0.4f}  std={:0.4f}\".format(np.mean(few_GPT4_entcot), np.std(few_GPT4_entcot)))\n",
        "print(\"few_GPT4_con: mean={:0.4f}  std={:0.4f}\".format(np.mean(few_GPT4_con), np.std(few_GPT4_con)))\n",
        "print(\"few_GPT4_concot: mean={:0.4f}  std={:0.4f}\".format(np.mean(few_GPT4_concot), np.std(few_GPT4_concot)))"
      ],
      "metadata": {
        "colab": {
          "base_uri": "https://localhost:8080/"
        },
        "id": "zCVqqky9fnnH",
        "outputId": "0000e9b7-8f1d-4c6a-98c2-44d384a92804"
      },
      "execution_count": null,
      "outputs": [
        {
          "output_type": "stream",
          "name": "stdout",
          "text": [
            "zero_GPT3_ent: mean=0.6390  std=0.0005\n",
            "zero_GPT3_entcot: mean=0.6633  std=0.0052\n",
            "zero_GPT3_con: mean=0.6506  std=0.0017\n",
            "zero_GPT3_concot: mean=0.6875  std=0.0043\n",
            "\n",
            "\n",
            "zero_GPT4_ent: mean=0.6813  std=0.0034\n",
            "zero_GPT4_entcot: mean=0.7765  std=0.0064\n",
            "zero_GPT4_con: mean=0.7397  std=0.0017\n",
            "zero_GPT4_concot: mean=0.7809  std=0.0074\n",
            "\n",
            "\n",
            "few_GPT3_ent: mean=0.7380  std=0.0067\n",
            "few_GPT3_entcot: mean=0.7230  std=0.0027\n",
            "few_GPT3_con: mean=0.7895  std=0.0005\n",
            "few_GPT3_concot: mean=0.7295  std=0.0098\n",
            "\n",
            "\n",
            "few_GPT4_ent: mean=0.8315  std=0.0054\n",
            "few_GPT4_entcot: mean=0.8086  std=0.0050\n",
            "few_GPT4_con: mean=0.8420  std=0.0025\n",
            "few_GPT4_concot: mean=0.8144  std=0.0021\n"
          ]
        }
      ]
    }
  ]
}
